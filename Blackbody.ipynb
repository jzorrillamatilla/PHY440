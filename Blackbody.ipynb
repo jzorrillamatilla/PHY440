{
 "cells": [
  {
   "cell_type": "markdown",
   "id": "aea3cd1d-ccca-47a7-83c8-db20a688d843",
   "metadata": {},
   "source": [
    "# Black-body radiation"
   ]
  },
  {
   "cell_type": "markdown",
   "id": "83bef461-5d41-4e54-9230-9b698e70ad1a",
   "metadata": {},
   "source": [
    "An object that is in thermal equilibrium, will emit electromagnetic radiation whose properties are described as \"black-body\" radiation.\n",
    "\n",
    "- An object in thermal equilibrium has a single temperature, and does not change with time\n",
    "- If an object radiates electromagnetic radiation, it loses energy, and its temperature shoud decrease, is that a contradiction?\n",
    "    - No, it is an idealized situation. As long as the energy emitted is very small, negligible, compared to the total thermal energy contained in a body we can approximate it by a black-body\n",
    "    - Interestingly this is the situation for stars, like the sun. Even though they emit a large amount of energy (in the case of the sun, enough to warm a planet 150 million kilometers away, sustaining its biosphere and economy), that amount of energy is small to its inner energy (which is fueled by nuclear reactions), its temperature is very stable, and the black-body is a good approximation\n",
    "\n",
    "The mechanism by which this radiation is generated is the acceleration of its constituent electric charges (electrons) when they change course by the influence of all other charges, as they move with a velocity that depends on the body's temperature.\n",
    " "
   ]
  },
  {
   "cell_type": "markdown",
   "id": "8430b60f-9175-4c23-af4d-6078bdf07b45",
   "metadata": {},
   "source": [
    "The amount of energy radiated at each frequency / wavelenght is given by the Planck law. It was measured empirically at the end of the XIX century, and Planck started the quantum revolution when he found a way to derive it from first principles.\n",
    "\n",
    "The law, which you do not need to memorize, can be written as a function of frequency:\n",
    "\n",
    "$$B_{\\nu}(\\nu, T) = \\frac{2h\\nu^3}{c^2}\\frac{1}{\\exp{\\frac{h\\nu}{k_B T}}-1}$$\n",
    "\n",
    "where $B_{\\nu}$ is the spectral radiance (in units of power per $\\mathrm{Hz}$ per $\\mathrm{m}^2$), $h$ is Planck's constant ($h=6.63\\times10^-34\\,\\mathrm{m^2kg/s}$), $c$, the speed of light ($c=3\\times10^8\\,\\mathrm{m/s}$), and $k_B$ Boltzmann's constant ($k_B=1.38\\times10^{-23}\\mathrm{m^2kg/s^2/K}$). \n",
    "\n",
    "Note that for a given frequency $\\nu$, the spectral radiance only depends on the temperature of the black-body.\n",
    "\n",
    "It can also be written as a funcion of wavelength:\n",
    "\n",
    "$$B_{\\lambda}(\\lambda, T) = \\frac{2h c^2}{\\lambda^5}\\frac{1}{\\exp{\\frac{h c}{\\lambda k_B T}}-1}$$"
   ]
  },
  {
   "cell_type": "markdown",
   "id": "b46da1c1-13c8-4f47-8a83-226c100b187b",
   "metadata": {},
   "source": [
    "If we sum (integrate) the spectral radiance across the spectrum, we obtain the total radiance, which corresponds to the total power emitted by the black-body. Turns out its value is a simple function of the black-body's temperature, named the Stefan-Boltzmann's law (this one, you may want to remember):\n",
    "\n",
    "$$L = \\sigma T^4$$\n",
    "\n",
    "where $\\sigma$ is the Stefan-Boltzmann's constant ($\\sigma=5.67\\times10^{-8}\\,\\mathrm{W/m^2/K^4}$), and the total radiance corresponds to the area below the curve of the spectral radiance (see below)"
   ]
  },
  {
   "cell_type": "markdown",
   "id": "e8f0ea2f-391c-45e5-adaf-96b2caee331e",
   "metadata": {},
   "source": [
    "Finally, the frequency (wavelength) at which the spectral radiance peaks, shifts also with the temperature in a simple fashion, called Wien's law (again, useful to remember):\n",
    "\n",
    "$$\\lambda_{\\mathrm{max}} = \\frac{b}{T}$$\n",
    "\n",
    "where $b$ is Wien's displacement constant ($b=2898\\,\\rm{\\mu m K}$)"
   ]
  },
  {
   "cell_type": "code",
   "execution_count": 1,
   "id": "c4ba919c-23b4-4b38-894b-e8dbaa084fa2",
   "metadata": {
    "jupyter": {
     "source_hidden": true
    },
    "tags": []
   },
   "outputs": [],
   "source": [
    "# Basic code to do computations with a black-body\n",
    "\n",
    "import astropy.units as u\n",
    "from astropy.constants import c, h, k_B, b_wien, sigma_sb\n",
    "import numpy as np\n",
    "\n",
    "class BlackBody:\n",
    "    def __init__(self,T):\n",
    "        # A black body is fully defined by its temperature\n",
    "        try:\n",
    "            self.T = T.to(u.K)\n",
    "        except AttributeError:\n",
    "            self.T = T * u.K\n",
    "        # We can use Wien's law to find the wavelength of the maximum\n",
    "        self.lambda_max = (b_wien / self.T).to(u.nm)\n",
    "        self.freq_max   = (c / self.lambda_max).to(u.Hz)\n",
    "        # We can use Stefan Boltmann's law to get the total radiance\n",
    "        self.total_radiance = sigma_sb * self.T**4\n",
    "            \n",
    "    def spec_radiance_freq(self, nu, units='cgs'):\n",
    "        try:\n",
    "            nu = nu.to(u.Hz)\n",
    "        except AttributeError:\n",
    "            nu *= u.Hz\n",
    "        \n",
    "        exponent  = (h * nu / k_B / self.T).decompose()\n",
    "        prefactor = (2 * h * nu**3 / c**2).decompose()\n",
    "        radiance  = prefactor / (np.exp(exponent) - 1)\n",
    "        \n",
    "        if   units=='cgs':\n",
    "            radiance = radiance.to(u.erg / u.s / u.cm**2 / u.Hz)\n",
    "        elif units=='SI':\n",
    "            radiance = radiance.to(u.W / u.m**2 / u.Hz)\n",
    "        \n",
    "        return radiance\n",
    "    \n",
    "    def spec_radiance_wavelenght(self, lamb, units='cgs'):\n",
    "        try:\n",
    "            lamb = lamb.to(u.nm)\n",
    "        except AttributeError:\n",
    "            lamb *= u.nm\n",
    "            \n",
    "        exponent  = (h * c / lamb / k_B / self.T).decompose()\n",
    "        prefactor = (2 * h * c**2 / lamb**5).decompose()\n",
    "        radiance  = prefactor / (np.exp(exponent) - 1)\n",
    "        \n",
    "        if units=='cgs':\n",
    "            radiance = radiance.to(u.erg / u.s / u.m**2 / u.nm)\n",
    "        elif units=='SI':\n",
    "            radiance = radiance.to(u.W / u.m**2 / u.nm)\n",
    "            \n",
    "        return radiance"
   ]
  },
  {
   "cell_type": "code",
   "execution_count": 8,
   "id": "87c511ee-1911-4d92-886f-63b99194f5d1",
   "metadata": {
    "tags": []
   },
   "outputs": [],
   "source": [
    "# Widget to show effect of change in temperature on the spectral radiance\n",
    "\n",
    "import numpy as np\n",
    "import matplotlib\n",
    "import matplotlib.pyplot as plt\n",
    "%matplotlib inline\n",
    "\n",
    "def bb_demo_plot(T, lambda_min, lambda_range):\n",
    "    # initialize two black bodies, one with the sun's temperature, and the other one\n",
    "    bb     = BlackBody(T)\n",
    "    T_ref  = 5778 * u.K\n",
    "    bb_ref = BlackBody(T_ref)\n",
    "    \n",
    "    # compute the radiance\n",
    "    lambdas = (np.linspace(1e-1, 3, 200) * u.micron).to(u.nm)\n",
    "    rad     = bb.spec_radiance_wavelenght(lambdas)\n",
    "    rad_ref = bb_ref.spec_radiance_wavelenght(lambdas)\n",
    "    \n",
    "    # pick a range of wavelenghts\n",
    "    lambda_max  = lambda_min + lambda_range\n",
    "    old_lambdas = lambdas.value\n",
    "    new_lambdas = lambdas[np.logical_and(old_lambdas >= lambda_min, old_lambdas <= lambda_max)]\n",
    "    new_rad     = rad[np.logical_and(old_lambdas >= lambda_min, old_lambdas <= lambda_max)]\n",
    "    new_rad_ref = rad_ref[np.logical_and(old_lambdas >= lambda_min, old_lambdas <= lambda_max)]\n",
    "    \n",
    "    # make the plot\n",
    "    matplotlib.rcParams.update({'font.size': 16})\n",
    "    fig = plt.figure(figsize=(15,10))\n",
    "    ax  = fig.add_subplot(111)\n",
    "    ax.plot(lambdas, rad_ref, linewidth=3, color='k', alpha=0.50, label=r\"{}\".format(T_ref))\n",
    "    ax.plot(lambdas, rad,     linewidth=3, color='b', alpha=1.00, label=r\"{}\".format(bb.T))\n",
    "    \n",
    "    ax.fill_between(new_lambdas, new_rad, 0, color='b', alpha=0.5)\n",
    "    ax.fill_between(new_lambdas, new_rad_ref, 0, color='k', alpha=0.5)\n",
    "    \n",
    "    ax.axvline(bb.lambda_max.value, linewidth=3, linestyle='--', color='b')\n",
    "    ax.axvline(bb_ref.lambda_max.value, linewidth=3, linestyle='--', color='k', alpha=0.25)\n",
    "    \n",
    "    ax.legend(loc=1)\n",
    "    ax.set_xlabel(r\"Wavelength [nm]\")\n",
    "    ax.set_ylabel(r\"Spectral radiance [erg / s / m$^2$ / nm]\")\n",
    "    ax.grid()\n",
    "    ax.set_ylim([0, 1.5e12])\n",
    "#    ax.set_yscale('log')\n",
    "    \n",
    "    plt.tight_layout()\n",
    "    plt.show()"
   ]
  },
  {
   "cell_type": "code",
   "execution_count": 9,
   "id": "8570918d-11eb-4ac7-b229-4b9f9afd1413",
   "metadata": {
    "tags": []
   },
   "outputs": [
    {
     "data": {
      "application/vnd.jupyter.widget-view+json": {
       "model_id": "38f5fd9cd69f423ab6c0076729c49aa5",
       "version_major": 2,
       "version_minor": 0
      },
      "text/plain": [
       "interactive(children=(FloatSlider(value=5000.0, description='T', max=8000.0, min=2000.0, step=100.0), FloatSli…"
      ]
     },
     "metadata": {},
     "output_type": "display_data"
    }
   ],
   "source": [
    "# Code to do a demo in class on the effec of the temperature of a black body on\n",
    "# its spectral radiance\n",
    "\n",
    "from ipywidgets import interactive\n",
    "\n",
    "bb_demo = interactive(bb_demo_plot, T=(2e3, 8e3, 100), lambda_min=(0.1, 2000, 100), lambda_range=(0, 1000, 50))\n",
    "output  = bb_demo.children[-1]\n",
    "bb_demo"
   ]
  },
  {
   "cell_type": "markdown",
   "id": "e7af91a3-7183-4762-bd2c-9702faf25fee",
   "metadata": {},
   "source": [
    "Note a series of observations:\n",
    "\n",
    "- Spectral radiances do not cross. The spectral radiance of a hotter black-body will always be above that of a colder black-body.\n",
    "- The peak of the radiance moves towards smaller wavelengths (higher frequencies, higher photon energies, bluer light) as the temperature of the black-body increases.\n",
    "- The total radiance (area below spectral radiance) increases very fast as the temperature of the black-body increases."
   ]
  },
  {
   "cell_type": "code",
   "execution_count": null,
   "id": "6192782a-7c03-429a-bf88-b5e1617bac61",
   "metadata": {},
   "outputs": [],
   "source": []
  }
 ],
 "metadata": {
  "kernelspec": {
   "display_name": "Python 3",
   "language": "python",
   "name": "python3"
  },
  "language_info": {
   "codemirror_mode": {
    "name": "ipython",
    "version": 3
   },
   "file_extension": ".py",
   "mimetype": "text/x-python",
   "name": "python",
   "nbconvert_exporter": "python",
   "pygments_lexer": "ipython3",
   "version": "3.8.8"
  }
 },
 "nbformat": 4,
 "nbformat_minor": 5
}
